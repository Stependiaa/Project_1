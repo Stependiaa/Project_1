{
 "cells": [
  {
   "cell_type": "markdown",
   "metadata": {},
   "source": [
    "Этот проект основан на датасете с информацией о ноутбуках. В нем есть фирма, модель, технические характеристики, стоимость и комментарии к каждому ноутбуку. Откроем файл"
   ]
  },
  {
   "cell_type": "code",
   "execution_count": null,
   "metadata": {},
   "outputs": [],
   "source": [
    "f = open('best_buy_laptops_2024.csv', 'r').read()\n",
    "for row in f.split('\\n'):\n",
    "    print(row.split(','))"
   ]
  },
  {
   "cell_type": "markdown",
   "metadata": {},
   "source": [
    "Из окна output видно, что датасет содержит колонки С названием бренда, моделью, средней оценкой на площадках, средним количеством оценок, ценой; валютой, в которой указана цена; ширина, высота экрана и пара описаний. Если присмотреться, то становится понятно, что, к сожалению, не все колонки заполнены. Сейчас это будет исправлено с помощью Pandas"
   ]
  },
  {
   "cell_type": "code",
   "execution_count": null,
   "metadata": {},
   "outputs": [],
   "source": [
    "import pandas as pd #improt pandas lib\n",
    "data = pd.read_csv('best_buy_laptops_2024.csv') #open .csv using pandas\n",
    "data #to show the table"
   ]
  },
  {
   "cell_type": "code",
   "execution_count": null,
   "metadata": {},
   "outputs": [],
   "source": [
    "data = data.dropna() #delete rows with one or more values 'NaN'\n",
    "data.to_csv('correct1 info.csv', sep=';', index =False, decimal=',', lineterminator='\\n')\n",
    "data"
   ]
  },
  {
   "cell_type": "code",
   "execution_count": 2,
   "metadata": {},
   "outputs": [
    {
     "name": "stdout",
     "output_type": "stream",
     "text": [
      "['brand', 'acer', 'microsoft', 'microsoft', 'microsoft', 'lenovo', 'lenovo', 'microsoft', 'lenovo', 'asus', 'acer', 'microsoft', 'acer', 'lenovo', 'hp', 'lenovo', 'lenovo', 'dell', 'dell', 'hp', 'dell', 'msi', 'microsoft', 'acer', 'lenovo', 'msi', 'dell', 'dell', 'lenovo', 'gigabyte', 'acer', 'asus', 'dell', 'lenovo', 'lenovo', 'lenovo', 'lenovo', 'msi', 'acer', 'dell', 'lenovo', 'asus', 'dell', 'lenovo', 'lenovo', 'microsoft', 'lenovo', 'hp', 'lenovo', 'hp', 'asus', 'dell', 'lenovo', 'asus', 'microsoft', 'acer', 'acer', 'dell', 'asus', 'hp', 'lenovo', 'microsoft', 'msi', 'asus', 'asus', 'acer', 'dell', 'asus', 'asus', 'msi', 'asus', 'asus', 'hp', 'microsoft', 'microsoft', 'hp', 'dell', 'dell', 'dell', 'acer', 'samsung', 'acer', 'msi', 'msi', 'microsoft', 'asus', 'dell', 'dell', 'lenovo', 'dell', 'acer', 'lenovo', 'hp', 'dell', 'lenovo', 'lenovo', '']\n"
     ]
    },
    {
     "data": {
      "text/plain": [
       "'lenovo'"
      ]
     },
     "execution_count": 2,
     "metadata": {},
     "output_type": "execute_result"
    }
   ],
   "source": [
    "#Find the most popular brand of laptops in data set\n",
    "brands = []\n",
    "\n",
    "f = open('correct1 info.csv', 'r').read() #Open dataset\n",
    "for row in f.split('\\n'): # split dataset to rows\n",
    "    (row.lower().split(';'))\n",
    "    brands.append(row.lower().split(';')[0])\n",
    "print(brands) #make new list with brands \n",
    "# find the most popular brand\n",
    "from instruments import *\n",
    "most_frequent_word(brands)"
   ]
  },
  {
   "cell_type": "code",
   "execution_count": 25,
   "metadata": {},
   "outputs": [
    {
     "name": "stdout",
     "output_type": "stream",
     "text": [
      "Most expensive laptop:  {'Brand': 'Acer', 'Model': 'PHN16-71-73RR', 'aggregateRating/ratingValue': '4,8', 'aggregateRating/reviewCount': '140,0', 'offers/price': '949,99', 'offers/priceCurrency': 'USD', 'depth': '11,02', 'width': '14,18'}\n"
     ]
    }
   ],
   "source": [
    "#Let's try to find the cheapest and most expencive laptop and print it's name\n",
    "#for make measures more convinient, I'm going to make a dictionary \n",
    "\n",
    "\n",
    "f = open('correct1 info.csv', 'r').read() #openning .csv as text\n",
    "from instruments import * #import functions for work with this file\n",
    "laptops_data = text_to_dict(f) \n",
    "\n",
    "for i in range(len(laptops_data.keys())):\n",
    "\n",
    "   max_price = max(laptops_data.get(i).get('offers/price'))\n",
    "   max_price = int(max_price)\n",
    "   \n",
    "\n",
    "print('Most expensive laptop: ', laptops_data.get(max_price))\n",
    "\n",
    "\n",
    "  "
   ]
  }
 ],
 "metadata": {
  "kernelspec": {
   "display_name": "Python 3",
   "language": "python",
   "name": "python3"
  },
  "language_info": {
   "codemirror_mode": {
    "name": "ipython",
    "version": 3
   },
   "file_extension": ".py",
   "mimetype": "text/x-python",
   "name": "python",
   "nbconvert_exporter": "python",
   "pygments_lexer": "ipython3",
   "version": "3.12.1"
  }
 },
 "nbformat": 4,
 "nbformat_minor": 2
}
